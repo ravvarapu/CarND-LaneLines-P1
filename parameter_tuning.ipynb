{
 "cells": [
  {
   "cell_type": "code",
   "execution_count": 1,
   "metadata": {},
   "outputs": [],
   "source": [
    "import matplotlib.pyplot as plt\n",
    "import matplotlib.image as mpimg\n",
    "import numpy as np\n",
    "import cv2\n",
    "import os \n",
    "import ipywidgets as widgets\n",
    "\n",
    "from __future__ import print_function\n",
    "from ipywidgets import interact, interactive, fixed, interact_manual\n",
    "from lanedetect_helpers import interact_function"
   ]
  },
  {
   "cell_type": "code",
   "execution_count": 2,
   "metadata": {},
   "outputs": [],
   "source": [
    "test_data_dir = \"test_images/\"\n",
    "# Read Test images\n",
    "test_images = os.listdir(test_data_dir)\n",
    "\n"
   ]
  },
  {
   "cell_type": "code",
   "execution_count": 3,
   "metadata": {},
   "outputs": [
    {
     "data": {
      "application/vnd.jupyter.widget-view+json": {
       "model_id": "8d38122d710549f5bafaea18a2b44fbd",
       "version_major": 2,
       "version_minor": 0
      },
      "text/plain": [
       "interactive(children=(Dropdown(description='img_path', options=('solidWhiteCurve.jpg', 'solidWhiteRight.jpg', …"
      ]
     },
     "metadata": {},
     "output_type": "display_data"
    },
    {
     "data": {
      "text/plain": [
       "<function lanedetect_helpers.interact_function(img_path, kernel_size=5, low_threshold=10, high_threshold=150, rho=2, threshold=15, min_line_len=60, max_line_gap=20)>"
      ]
     },
     "execution_count": 3,
     "metadata": {},
     "output_type": "execute_result"
    }
   ],
   "source": [
    "interact(interact_function,\n",
    "    img_path = test_images,\n",
    "    kernel_size = (0,20),\n",
    "    low_threshold = (0,500),\n",
    "    high_threshold = (0, 500),\n",
    "    rho = (0,50),\n",
    "    threshold = (0, 500),\n",
    "    min_line_len = (0, 500),\n",
    "    max_line_gap = (0, 500))"
   ]
  },
  {
   "cell_type": "code",
   "execution_count": null,
   "metadata": {},
   "outputs": [],
   "source": []
  }
 ],
 "metadata": {
  "kernelspec": {
   "display_name": "Python 3",
   "language": "python",
   "name": "python3"
  },
  "language_info": {
   "codemirror_mode": {
    "name": "ipython",
    "version": 3
   },
   "file_extension": ".py",
   "mimetype": "text/x-python",
   "name": "python",
   "nbconvert_exporter": "python",
   "pygments_lexer": "ipython3",
   "version": "3.8.2"
  }
 },
 "nbformat": 4,
 "nbformat_minor": 4
}
